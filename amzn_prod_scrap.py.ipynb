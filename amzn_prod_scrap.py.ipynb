{
 "cells": [
  {
   "cell_type": "code",
   "execution_count": 111,
   "id": "7b708290",
   "metadata": {},
   "outputs": [],
   "source": [
    "import requests\n",
    "from bs4 import BeautifulSoup\n",
    "import pandas as pd"
   ]
  },
  {
   "cell_type": "code",
   "execution_count": 126,
   "id": "2bff5110",
   "metadata": {},
   "outputs": [],
   "source": [
    "url = \"https://www.amazon.in/s?k=bags&crid=2M096C61O4MLT&qid=1653308124&sprefix=ba%2Caps%2C283&ref=sr_pg_1\"\n",
    "pages = 20\n",
    "data = []"
   ]
  },
  {
   "cell_type": "code",
   "execution_count": 127,
   "id": "c38ff427",
   "metadata": {},
   "outputs": [],
   "source": [
    "for page in range(1,pages+1):\n",
    "    url = url + str(page)\n",
    "    response = requests.get(url)\n",
    "    soup = BeautifulSoup(response.text,'html.parser')\n",
    "    \n",
    "    products = soup.find_all('div',{'data-component-type':'s-search-result'})\n",
    "    \n",
    "    for product in products:\n",
    "        product_data = {}\n",
    "        \n",
    "        # Extract product URL\n",
    "        product_link = product.find('a', {'class': 'a-link-normal s-no-outline'})['href']\n",
    "        product_url = \"https://www.amazon.in\" + product_link\n",
    "        product_data['Product URL'] = product_url\n",
    "        \n",
    "        # Extract product name\n",
    "        product_name = product.find('span', {'class': 'a-size-medium a-color-base a-text-normal'}).text.strip()\n",
    "        product_data['Product Name'] = product_name\n",
    "        \n",
    "        # Extract product price\n",
    "        product_price = product.find('span',{'class':'a-price-whole'}).text.strip()\n",
    "        product_data['Product Price'] = product_price\n",
    "        \n",
    "        # Extract product rating\n",
    "        product_rating = product.find('span',{'class': 'a-icon-alt'})\n",
    "        product_rating =  product_rating.text.strip() if product_rating else \"N/A\"\n",
    "        product_data['Rating'] = product_rating\n",
    "        \n",
    "        # Extract number of product reviews\n",
    "        product_reviews = product.find('span', {'class': 'a-size-base'})\n",
    "        product_reviews = product_reviews.text.strip() if product_reviews else \"0\"\n",
    "        product_data['Number of Reviews'] = product_reviews\n",
    "        \n",
    "        data.append(product_data)"
   ]
  },
  {
   "cell_type": "code",
   "execution_count": 128,
   "id": "ab63c687",
   "metadata": {},
   "outputs": [],
   "source": [
    "# to scrap additional details from product URLS\n",
    "for i, product in enumerate(data):\n",
    "    url = url+str(page)\n",
    "    response = requests.get(url)\n",
    "    soup = BeautifulSoup(response.text,'html.parser')\n",
    "    \n",
    "    # Extract  description\n",
    "    description = soup.find('div', {'id': 'feature-bullets'}).text.strip() if soup.find('div', {'id': 'feature-bullets'}) else \"N/A\"\n",
    "    data[i]['Description'] = description\n",
    "    \n",
    "#     # Extract product ASIN\n",
    "#     product_asin = soup.find('li', text='ASIN').find('span', {'class': 'a-text-bold'}).find_next('span').text.strip() if soup.find('li', text='ASIN') else \"N/A\"\n",
    "#     data[i]['ASIN'] = product_asin\n",
    "    asin_element = soup.find('li', string=lambda text: text and 'ASIN' in text)\n",
    "    asin = asin_element.find('span', class_='a-list-item').next_sibling.strip() if asin_element else \"N/A\"\n",
    "    data[i]['ASIN'] = asin\n",
    "    \n",
    "    # Extract product description\n",
    "    product_description = soup.find('div', {'id': 'feature-bullets'}).text.strip() if soup.find('div', {'id': 'feature-bullets'}) else \"N/A\"\n",
    "    data[i]['Product Description'] = product_description\n",
    "\n",
    "#     # Extract manufacturer\n",
    "#     product_manufacturer = soup.find('span', {'class': 'a-list-item'})\n",
    "#     product_manufacturer = product_manufacturer.text.strip() if product_manufacturer else \"N/A\"\n",
    "#     data[i]['Manufacturer'] = product_manufacturer\n",
    "\n",
    "    # Extract manufacturer\n",
    "    manufacturer = soup.find('span', text='Manufacturer').find_next('span').text.strip() if soup.find('span', text='Manufacturer') else \"N/A\"\n",
    "    data[i]['Manufacturer'] = manufacturer"
   ]
  },
  {
   "cell_type": "code",
   "execution_count": 130,
   "id": "053999b8",
   "metadata": {},
   "outputs": [],
   "source": [
    "# for i, product in enumerate(data):\n",
    "url = url+str(page)\n",
    "response = requests.get(url)\n",
    "soup = BeautifulSoup(response.text,'html.parser')\n",
    "    \n",
    "    \n",
    "#     asin = soup.find('div', {'id': 'detailBullets_feature_div'}).find('ul',{'class':'a-unordered-list a-nostyle a-vertical a-spacing-none detail-bullet-list'}).find('span',{'class':'a-list-item'}).find('span',{'class':'a-text-bold'}).text if soup.find('div', {'id': 'detailBullets_feature_div'}) else \"N/A\" \n",
    "asin = soup.find('div',attrs={'id':'detailBulletsReverseInterleaveContainer_feature_v2'})\n",
    "        \n",
    "#     # Extract product ASIN\n",
    "#     # Find the <div> with id 'detailBullets_feature_div'\n",
    "#     detail_bullets_div = soup.find('div', {'id': 'detailBullets_feature_div'})\n",
    "\n",
    "# # Find the <ul> within the 'detailBullets_feature_div'\n",
    "#     ul_element = detail_bullets_div.find('ul', class_='a-unordered-list a-nostyle a-vertical a-spacing-none detail-bullet-list')\n",
    "\n",
    "# # Find the <li> containing ASIN\n",
    "#     asin_li = ul_element.find('li', string=lambda text: text and 'ASIN' in text)\n",
    "\n",
    "# # Extract the ASIN from the <span> tag within the <li>\n",
    "#     asin = asin_li.find('span', class_='a-list-item').find_next('span').text.strip() if asin_li else \"N/A\"\n",
    "\n",
    "# # Assign ASIN to the dictionary\n",
    "#     data[i]['ASIN'] = asin   \n"
   ]
  },
  {
   "cell_type": "code",
   "execution_count": 133,
   "id": "e92ab05b",
   "metadata": {},
   "outputs": [],
   "source": [
    "# Export data to CSV\n",
    "df = pd.DataFrame(data)\n",
    "df.to_csv('amazon_products.csv', index=False)"
   ]
  }
 ],
 "metadata": {
  "kernelspec": {
   "display_name": "Python 3 (ipykernel)",
   "language": "python",
   "name": "python3"
  },
  "language_info": {
   "codemirror_mode": {
    "name": "ipython",
    "version": 3
   },
   "file_extension": ".py",
   "mimetype": "text/x-python",
   "name": "python",
   "nbconvert_exporter": "python",
   "pygments_lexer": "ipython3",
   "version": "3.9.13"
  }
 },
 "nbformat": 4,
 "nbformat_minor": 5
}
